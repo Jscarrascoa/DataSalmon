{
 "cells": [
  {
   "cell_type": "code",
   "execution_count": 1,
   "id": "a4fca5e1",
   "metadata": {},
   "outputs": [],
   "source": [
    "import pandas as pd"
   ]
  },
  {
   "cell_type": "code",
   "execution_count": 1,
   "id": "7b84c185",
   "metadata": {},
   "outputs": [],
   "source": [
    "import pandas as pd\n",
    "import numpy as np\n",
    "import seaborn as sns\n",
    "from statsmodels.graphics.mosaicplot import mosaic\n",
    "import statsmodels.formula.api as smf"
   ]
  },
  {
   "cell_type": "code",
   "execution_count": 2,
   "id": "d644b0ba",
   "metadata": {},
   "outputs": [
    {
     "name": "stderr",
     "output_type": "stream",
     "text": [
      "C:\\Users\\jose.carrasco\\AppData\\Local\\Temp\\ipykernel_1708\\3207295029.py:1: DtypeWarning: Columns (1,3,8,11,12,13,15,16,17,18,26) have mixed types. Specify dtype option on import or set low_memory=False.\n",
      "  data = pd.read_csv('ASL_master.csv')\n"
     ]
    }
   ],
   "source": [
    "data = pd.read_csv('ASL_master.csv')"
   ]
  },
  {
   "cell_type": "code",
   "execution_count": 3,
   "id": "597db35a",
   "metadata": {},
   "outputs": [],
   "source": [
    "# Limpiar datos y seleccionar columnas importantes"
   ]
  },
  {
   "cell_type": "code",
   "execution_count": 4,
   "id": "c78049ac",
   "metadata": {},
   "outputs": [],
   "source": [
    "sample2 = data[['Species','sampleYear','sampleDate','Length','Weight','Sex','Salt.Water.Age','Fresh.Water.Age','Lat','Lon','SASAP.Region']].dropna()"
   ]
  },
  {
   "cell_type": "code",
   "execution_count": 5,
   "id": "22cb2bec",
   "metadata": {},
   "outputs": [],
   "source": [
    "sample2['Salt.Water.Age'] = sample2['Salt.Water.Age'].astype(int)"
   ]
  },
  {
   "cell_type": "code",
   "execution_count": 6,
   "id": "aa738409",
   "metadata": {},
   "outputs": [],
   "source": [
    "sample2['Fresh.Water.Age'] = sample2['Fresh.Water.Age'].astype(int)"
   ]
  },
  {
   "cell_type": "code",
   "execution_count": 7,
   "id": "1d71d496",
   "metadata": {},
   "outputs": [],
   "source": [
    "sample2['Age'] = sample2['Salt.Water.Age']+sample2['Fresh.Water.Age']+1"
   ]
  },
  {
   "cell_type": "code",
   "execution_count": 8,
   "id": "12834a41",
   "metadata": {},
   "outputs": [],
   "source": [
    "sample2 = sample2[sample2['Sex'].isin(['female', 'male'])]"
   ]
  },
  {
   "cell_type": "code",
   "execution_count": 9,
   "id": "a6d80a2c",
   "metadata": {},
   "outputs": [
    {
     "data": {
      "text/html": [
       "<div>\n",
       "<style scoped>\n",
       "    .dataframe tbody tr th:only-of-type {\n",
       "        vertical-align: middle;\n",
       "    }\n",
       "\n",
       "    .dataframe tbody tr th {\n",
       "        vertical-align: top;\n",
       "    }\n",
       "\n",
       "    .dataframe thead th {\n",
       "        text-align: right;\n",
       "    }\n",
       "</style>\n",
       "<table border=\"1\" class=\"dataframe\">\n",
       "  <thead>\n",
       "    <tr style=\"text-align: right;\">\n",
       "      <th></th>\n",
       "      <th>Species</th>\n",
       "      <th>sampleYear</th>\n",
       "      <th>sampleDate</th>\n",
       "      <th>Length</th>\n",
       "      <th>Weight</th>\n",
       "      <th>Sex</th>\n",
       "      <th>Salt.Water.Age</th>\n",
       "      <th>Fresh.Water.Age</th>\n",
       "      <th>Lat</th>\n",
       "      <th>Lon</th>\n",
       "      <th>SASAP.Region</th>\n",
       "      <th>Age</th>\n",
       "    </tr>\n",
       "  </thead>\n",
       "  <tbody>\n",
       "    <tr>\n",
       "      <th>706091</th>\n",
       "      <td>chinook</td>\n",
       "      <td>1965.0</td>\n",
       "      <td>1965-07-03</td>\n",
       "      <td>721.0</td>\n",
       "      <td>6.57</td>\n",
       "      <td>female</td>\n",
       "      <td>3</td>\n",
       "      <td>1</td>\n",
       "      <td>59.062019</td>\n",
       "      <td>-156.486916</td>\n",
       "      <td>Bristol Bay</td>\n",
       "      <td>5</td>\n",
       "    </tr>\n",
       "    <tr>\n",
       "      <th>706486</th>\n",
       "      <td>chinook</td>\n",
       "      <td>1981.0</td>\n",
       "      <td>1981-07-28</td>\n",
       "      <td>750.0</td>\n",
       "      <td>10.00</td>\n",
       "      <td>male</td>\n",
       "      <td>4</td>\n",
       "      <td>1</td>\n",
       "      <td>62.032597</td>\n",
       "      <td>-163.243350</td>\n",
       "      <td>Yukon</td>\n",
       "      <td>6</td>\n",
       "    </tr>\n",
       "    <tr>\n",
       "      <th>706488</th>\n",
       "      <td>chinook</td>\n",
       "      <td>1981.0</td>\n",
       "      <td>1981-07-28</td>\n",
       "      <td>870.0</td>\n",
       "      <td>1.00</td>\n",
       "      <td>female</td>\n",
       "      <td>4</td>\n",
       "      <td>1</td>\n",
       "      <td>62.032597</td>\n",
       "      <td>-163.243350</td>\n",
       "      <td>Yukon</td>\n",
       "      <td>6</td>\n",
       "    </tr>\n",
       "    <tr>\n",
       "      <th>706492</th>\n",
       "      <td>chinook</td>\n",
       "      <td>1981.0</td>\n",
       "      <td>1981-07-28</td>\n",
       "      <td>745.0</td>\n",
       "      <td>5.00</td>\n",
       "      <td>male</td>\n",
       "      <td>3</td>\n",
       "      <td>1</td>\n",
       "      <td>62.032597</td>\n",
       "      <td>-163.243350</td>\n",
       "      <td>Yukon</td>\n",
       "      <td>5</td>\n",
       "    </tr>\n",
       "    <tr>\n",
       "      <th>706510</th>\n",
       "      <td>chinook</td>\n",
       "      <td>1981.0</td>\n",
       "      <td>1981-07-29</td>\n",
       "      <td>885.0</td>\n",
       "      <td>25.00</td>\n",
       "      <td>male</td>\n",
       "      <td>4</td>\n",
       "      <td>1</td>\n",
       "      <td>62.032597</td>\n",
       "      <td>-163.243350</td>\n",
       "      <td>Yukon</td>\n",
       "      <td>6</td>\n",
       "    </tr>\n",
       "    <tr>\n",
       "      <th>706511</th>\n",
       "      <td>chinook</td>\n",
       "      <td>1981.0</td>\n",
       "      <td>1981-07-29</td>\n",
       "      <td>925.0</td>\n",
       "      <td>25.00</td>\n",
       "      <td>female</td>\n",
       "      <td>4</td>\n",
       "      <td>1</td>\n",
       "      <td>62.032597</td>\n",
       "      <td>-163.243350</td>\n",
       "      <td>Yukon</td>\n",
       "      <td>6</td>\n",
       "    </tr>\n",
       "    <tr>\n",
       "      <th>706514</th>\n",
       "      <td>chinook</td>\n",
       "      <td>1981.0</td>\n",
       "      <td>1981-07-29</td>\n",
       "      <td>925.0</td>\n",
       "      <td>1.00</td>\n",
       "      <td>female</td>\n",
       "      <td>4</td>\n",
       "      <td>1</td>\n",
       "      <td>62.032597</td>\n",
       "      <td>-163.243350</td>\n",
       "      <td>Yukon</td>\n",
       "      <td>6</td>\n",
       "    </tr>\n",
       "    <tr>\n",
       "      <th>706531</th>\n",
       "      <td>chinook</td>\n",
       "      <td>1981.0</td>\n",
       "      <td>1981-07-31</td>\n",
       "      <td>590.0</td>\n",
       "      <td>10.00</td>\n",
       "      <td>male</td>\n",
       "      <td>2</td>\n",
       "      <td>1</td>\n",
       "      <td>62.032597</td>\n",
       "      <td>-163.243350</td>\n",
       "      <td>Yukon</td>\n",
       "      <td>4</td>\n",
       "    </tr>\n",
       "    <tr>\n",
       "      <th>709254</th>\n",
       "      <td>chinook</td>\n",
       "      <td>1981.0</td>\n",
       "      <td>1981-01-01</td>\n",
       "      <td>815.0</td>\n",
       "      <td>1.00</td>\n",
       "      <td>male</td>\n",
       "      <td>3</td>\n",
       "      <td>1</td>\n",
       "      <td>62.149381</td>\n",
       "      <td>-162.800852</td>\n",
       "      <td>Yukon</td>\n",
       "      <td>5</td>\n",
       "    </tr>\n",
       "    <tr>\n",
       "      <th>709256</th>\n",
       "      <td>chinook</td>\n",
       "      <td>1981.0</td>\n",
       "      <td>1981-01-01</td>\n",
       "      <td>635.0</td>\n",
       "      <td>3.00</td>\n",
       "      <td>female</td>\n",
       "      <td>3</td>\n",
       "      <td>1</td>\n",
       "      <td>62.149381</td>\n",
       "      <td>-162.800852</td>\n",
       "      <td>Yukon</td>\n",
       "      <td>5</td>\n",
       "    </tr>\n",
       "  </tbody>\n",
       "</table>\n",
       "</div>"
      ],
      "text/plain": [
       "        Species  sampleYear  sampleDate  Length  Weight     Sex  \\\n",
       "706091  chinook      1965.0  1965-07-03   721.0    6.57  female   \n",
       "706486  chinook      1981.0  1981-07-28   750.0   10.00    male   \n",
       "706488  chinook      1981.0  1981-07-28   870.0    1.00  female   \n",
       "706492  chinook      1981.0  1981-07-28   745.0    5.00    male   \n",
       "706510  chinook      1981.0  1981-07-29   885.0   25.00    male   \n",
       "706511  chinook      1981.0  1981-07-29   925.0   25.00  female   \n",
       "706514  chinook      1981.0  1981-07-29   925.0    1.00  female   \n",
       "706531  chinook      1981.0  1981-07-31   590.0   10.00    male   \n",
       "709254  chinook      1981.0  1981-01-01   815.0    1.00    male   \n",
       "709256  chinook      1981.0  1981-01-01   635.0    3.00  female   \n",
       "\n",
       "        Salt.Water.Age  Fresh.Water.Age        Lat         Lon SASAP.Region  \\\n",
       "706091               3                1  59.062019 -156.486916  Bristol Bay   \n",
       "706486               4                1  62.032597 -163.243350        Yukon   \n",
       "706488               4                1  62.032597 -163.243350        Yukon   \n",
       "706492               3                1  62.032597 -163.243350        Yukon   \n",
       "706510               4                1  62.032597 -163.243350        Yukon   \n",
       "706511               4                1  62.032597 -163.243350        Yukon   \n",
       "706514               4                1  62.032597 -163.243350        Yukon   \n",
       "706531               2                1  62.032597 -163.243350        Yukon   \n",
       "709254               3                1  62.149381 -162.800852        Yukon   \n",
       "709256               3                1  62.149381 -162.800852        Yukon   \n",
       "\n",
       "        Age  \n",
       "706091    5  \n",
       "706486    6  \n",
       "706488    6  \n",
       "706492    5  \n",
       "706510    6  \n",
       "706511    6  \n",
       "706514    6  \n",
       "706531    4  \n",
       "709254    5  \n",
       "709256    5  "
      ]
     },
     "execution_count": 9,
     "metadata": {},
     "output_type": "execute_result"
    }
   ],
   "source": [
    "sample2.head(10)"
   ]
  },
  {
   "cell_type": "code",
   "execution_count": 10,
   "id": "059b0977",
   "metadata": {},
   "outputs": [
    {
     "data": {
      "text/html": [
       "<div>\n",
       "<style scoped>\n",
       "    .dataframe tbody tr th:only-of-type {\n",
       "        vertical-align: middle;\n",
       "    }\n",
       "\n",
       "    .dataframe tbody tr th {\n",
       "        vertical-align: top;\n",
       "    }\n",
       "\n",
       "    .dataframe thead th {\n",
       "        text-align: right;\n",
       "    }\n",
       "</style>\n",
       "<table border=\"1\" class=\"dataframe\">\n",
       "  <thead>\n",
       "    <tr style=\"text-align: right;\">\n",
       "      <th></th>\n",
       "      <th>sampleYear</th>\n",
       "      <th>Length</th>\n",
       "      <th>Weight</th>\n",
       "      <th>Salt.Water.Age</th>\n",
       "      <th>Fresh.Water.Age</th>\n",
       "      <th>Lat</th>\n",
       "      <th>Lon</th>\n",
       "      <th>Age</th>\n",
       "    </tr>\n",
       "  </thead>\n",
       "  <tbody>\n",
       "    <tr>\n",
       "      <th>count</th>\n",
       "      <td>115287.000000</td>\n",
       "      <td>115287.000000</td>\n",
       "      <td>115287.000000</td>\n",
       "      <td>115287.000000</td>\n",
       "      <td>115287.00000</td>\n",
       "      <td>115287.000000</td>\n",
       "      <td>115287.000000</td>\n",
       "      <td>115287.000000</td>\n",
       "    </tr>\n",
       "    <tr>\n",
       "      <th>mean</th>\n",
       "      <td>1998.493594</td>\n",
       "      <td>560.046432</td>\n",
       "      <td>23.389236</td>\n",
       "      <td>2.571955</td>\n",
       "      <td>1.13567</td>\n",
       "      <td>58.919277</td>\n",
       "      <td>-145.153900</td>\n",
       "      <td>4.707625</td>\n",
       "    </tr>\n",
       "    <tr>\n",
       "      <th>std</th>\n",
       "      <td>18.496935</td>\n",
       "      <td>98.043623</td>\n",
       "      <td>82.187337</td>\n",
       "      <td>0.707081</td>\n",
       "      <td>0.64327</td>\n",
       "      <td>2.124836</td>\n",
       "      <td>11.738925</td>\n",
       "      <td>0.822121</td>\n",
       "    </tr>\n",
       "    <tr>\n",
       "      <th>min</th>\n",
       "      <td>1963.000000</td>\n",
       "      <td>0.000000</td>\n",
       "      <td>0.000000</td>\n",
       "      <td>0.000000</td>\n",
       "      <td>0.00000</td>\n",
       "      <td>55.098554</td>\n",
       "      <td>-164.761963</td>\n",
       "      <td>2.000000</td>\n",
       "    </tr>\n",
       "    <tr>\n",
       "      <th>25%</th>\n",
       "      <td>1979.000000</td>\n",
       "      <td>505.000000</td>\n",
       "      <td>0.000000</td>\n",
       "      <td>2.000000</td>\n",
       "      <td>1.00000</td>\n",
       "      <td>57.639997</td>\n",
       "      <td>-157.099300</td>\n",
       "      <td>4.000000</td>\n",
       "    </tr>\n",
       "    <tr>\n",
       "      <th>50%</th>\n",
       "      <td>2007.000000</td>\n",
       "      <td>546.000000</td>\n",
       "      <td>0.000000</td>\n",
       "      <td>3.000000</td>\n",
       "      <td>1.00000</td>\n",
       "      <td>58.869280</td>\n",
       "      <td>-136.062956</td>\n",
       "      <td>5.000000</td>\n",
       "    </tr>\n",
       "    <tr>\n",
       "      <th>75%</th>\n",
       "      <td>2015.000000</td>\n",
       "      <td>588.000000</td>\n",
       "      <td>7.500000</td>\n",
       "      <td>3.000000</td>\n",
       "      <td>2.00000</td>\n",
       "      <td>59.372135</td>\n",
       "      <td>-135.299633</td>\n",
       "      <td>5.000000</td>\n",
       "    </tr>\n",
       "    <tr>\n",
       "      <th>max</th>\n",
       "      <td>2016.000000</td>\n",
       "      <td>1130.000000</td>\n",
       "      <td>5587.000000</td>\n",
       "      <td>8.000000</td>\n",
       "      <td>3.00000</td>\n",
       "      <td>67.673035</td>\n",
       "      <td>-130.646135</td>\n",
       "      <td>9.000000</td>\n",
       "    </tr>\n",
       "  </tbody>\n",
       "</table>\n",
       "</div>"
      ],
      "text/plain": [
       "          sampleYear         Length         Weight  Salt.Water.Age  \\\n",
       "count  115287.000000  115287.000000  115287.000000   115287.000000   \n",
       "mean     1998.493594     560.046432      23.389236        2.571955   \n",
       "std        18.496935      98.043623      82.187337        0.707081   \n",
       "min      1963.000000       0.000000       0.000000        0.000000   \n",
       "25%      1979.000000     505.000000       0.000000        2.000000   \n",
       "50%      2007.000000     546.000000       0.000000        3.000000   \n",
       "75%      2015.000000     588.000000       7.500000        3.000000   \n",
       "max      2016.000000    1130.000000    5587.000000        8.000000   \n",
       "\n",
       "       Fresh.Water.Age            Lat            Lon            Age  \n",
       "count     115287.00000  115287.000000  115287.000000  115287.000000  \n",
       "mean           1.13567      58.919277    -145.153900       4.707625  \n",
       "std            0.64327       2.124836      11.738925       0.822121  \n",
       "min            0.00000      55.098554    -164.761963       2.000000  \n",
       "25%            1.00000      57.639997    -157.099300       4.000000  \n",
       "50%            1.00000      58.869280    -136.062956       5.000000  \n",
       "75%            2.00000      59.372135    -135.299633       5.000000  \n",
       "max            3.00000      67.673035    -130.646135       9.000000  "
      ]
     },
     "execution_count": 10,
     "metadata": {},
     "output_type": "execute_result"
    }
   ],
   "source": [
    "sample2.describe()"
   ]
  },
  {
   "cell_type": "code",
   "execution_count": 11,
   "id": "7516ebea",
   "metadata": {},
   "outputs": [
    {
     "data": {
      "text/plain": [
       "(14347461, 27)"
      ]
     },
     "execution_count": 11,
     "metadata": {},
     "output_type": "execute_result"
    }
   ],
   "source": [
    "data.shape"
   ]
  },
  {
   "cell_type": "code",
   "execution_count": 12,
   "id": "a37bbfc3",
   "metadata": {},
   "outputs": [
    {
     "data": {
      "text/plain": [
       "(115287, 12)"
      ]
     },
     "execution_count": 12,
     "metadata": {},
     "output_type": "execute_result"
    }
   ],
   "source": [
    "sample2.shape"
   ]
  },
  {
   "cell_type": "code",
   "execution_count": 13,
   "id": "971d8780",
   "metadata": {},
   "outputs": [
    {
     "data": {
      "text/plain": [
       "2016.0"
      ]
     },
     "execution_count": 13,
     "metadata": {},
     "output_type": "execute_result"
    }
   ],
   "source": [
    "sample2.sampleYear.unique().max()"
   ]
  },
  {
   "cell_type": "code",
   "execution_count": 14,
   "id": "ff296b98",
   "metadata": {},
   "outputs": [],
   "source": [
    "#1. Población de especies en diferentes regiones"
   ]
  },
  {
   "cell_type": "code",
   "execution_count": 15,
   "id": "1379f40d",
   "metadata": {},
   "outputs": [],
   "source": [
    "#Seleccione las columnas que son necesarias para el análisis, elimine los valores atipicos y asi obtendremos una nueva Data llamada sample2 "
   ]
  },
  {
   "cell_type": "code",
   "execution_count": 16,
   "id": "30c65655",
   "metadata": {},
   "outputs": [],
   "source": [
    "# sns.set(rc={'figure.figsize':(6,8)})"
   ]
  },
  {
   "cell_type": "code",
   "execution_count": 17,
   "id": "9a96278b",
   "metadata": {},
   "outputs": [],
   "source": [
    "sns.set_style(\"white\")"
   ]
  },
  {
   "cell_type": "code",
   "execution_count": 22,
   "id": "c38a8f2e",
   "metadata": {},
   "outputs": [
    {
     "name": "stderr",
     "output_type": "stream",
     "text": [
      "C:\\Users\\jose.carrasco\\AppData\\Local\\Temp\\ipykernel_1708\\3375452845.py:2: UserWarning: FixedFormatter should only be used together with FixedLocator\n",
      "  g.set_xticklabels(g.get_xticklabels(),rotation=40,ha=\"right\", rotation_mode=\"anchor\")\n"
     ]
    },
    {
     "data": {
      "text/plain": [
       "[Text(0.5, 1.0, 'Distribución de especies en diferentes regiones')]"
      ]
     },
     "execution_count": 22,
     "metadata": {},
     "output_type": "execute_result"
    },
    {
     "data": {
      "image/png": "[encoded data removed]",
      "text/plain": [
       "<Figure size 640x480 with 1 Axes>"
      ]
     },
     "metadata": {},
     "output_type": "display_data"
    }
   ],
   "source": [
    "g = sns.histplot(data=sample2, x='SASAP.Region', hue='Species')\n",
    "g.set_xticklabels(g.get_xticklabels(),rotation=40,ha=\"right\", rotation_mode=\"anchor\")\n",
    "g.set(title='Distribución de especies en diferentes regiones')"
   ]
  },
  {
   "cell_type": "code",
   "execution_count": 23,
   "id": "f43b4665",
   "metadata": {},
   "outputs": [],
   "source": [
    "#2. Vamos a Comparar las características biológicas del salmón rojo de la Bahía de Bristol y del sureste."
   ]
  },
  {
   "cell_type": "code",
   "execution_count": 24,
   "id": "a636c824",
   "metadata": {},
   "outputs": [],
   "source": [
    "sockeye = sample2[(sample2['SASAP.Region'].isin(['Bristol Bay', 'Southeast'])) & (sample2['Species'] =='sockeye')].copy().reset_index(drop=True)"
   ]
  },
  {
   "cell_type": "code",
   "execution_count": 25,
   "id": "0c760245",
   "metadata": {},
   "outputs": [
    {
     "data": {
      "text/html": [
       "<div>\n",
       "<style scoped>\n",
       "    .dataframe tbody tr th:only-of-type {\n",
       "        vertical-align: middle;\n",
       "    }\n",
       "\n",
       "    .dataframe tbody tr th {\n",
       "        vertical-align: top;\n",
       "    }\n",
       "\n",
       "    .dataframe thead th {\n",
       "        text-align: right;\n",
       "    }\n",
       "</style>\n",
       "<table border=\"1\" class=\"dataframe\">\n",
       "  <thead>\n",
       "    <tr style=\"text-align: right;\">\n",
       "      <th></th>\n",
       "      <th>Species</th>\n",
       "      <th>sampleYear</th>\n",
       "      <th>sampleDate</th>\n",
       "      <th>Length</th>\n",
       "      <th>Weight</th>\n",
       "      <th>Sex</th>\n",
       "      <th>Salt.Water.Age</th>\n",
       "      <th>Fresh.Water.Age</th>\n",
       "      <th>Lat</th>\n",
       "      <th>Lon</th>\n",
       "      <th>SASAP.Region</th>\n",
       "      <th>Age</th>\n",
       "    </tr>\n",
       "  </thead>\n",
       "  <tbody>\n",
       "    <tr>\n",
       "      <th>0</th>\n",
       "      <td>sockeye</td>\n",
       "      <td>2015.0</td>\n",
       "      <td>2015-07-11</td>\n",
       "      <td>580.0</td>\n",
       "      <td>0.0</td>\n",
       "      <td>male</td>\n",
       "      <td>3</td>\n",
       "      <td>1</td>\n",
       "      <td>59.457952</td>\n",
       "      <td>-139.571432</td>\n",
       "      <td>Southeast</td>\n",
       "      <td>5</td>\n",
       "    </tr>\n",
       "    <tr>\n",
       "      <th>1</th>\n",
       "      <td>sockeye</td>\n",
       "      <td>2015.0</td>\n",
       "      <td>2015-07-11</td>\n",
       "      <td>440.0</td>\n",
       "      <td>0.0</td>\n",
       "      <td>female</td>\n",
       "      <td>2</td>\n",
       "      <td>1</td>\n",
       "      <td>59.457952</td>\n",
       "      <td>-139.571432</td>\n",
       "      <td>Southeast</td>\n",
       "      <td>4</td>\n",
       "    </tr>\n",
       "    <tr>\n",
       "      <th>2</th>\n",
       "      <td>sockeye</td>\n",
       "      <td>2015.0</td>\n",
       "      <td>2015-07-11</td>\n",
       "      <td>535.0</td>\n",
       "      <td>0.0</td>\n",
       "      <td>female</td>\n",
       "      <td>3</td>\n",
       "      <td>1</td>\n",
       "      <td>59.457952</td>\n",
       "      <td>-139.571432</td>\n",
       "      <td>Southeast</td>\n",
       "      <td>5</td>\n",
       "    </tr>\n",
       "    <tr>\n",
       "      <th>3</th>\n",
       "      <td>sockeye</td>\n",
       "      <td>2015.0</td>\n",
       "      <td>2015-07-11</td>\n",
       "      <td>440.0</td>\n",
       "      <td>0.0</td>\n",
       "      <td>female</td>\n",
       "      <td>2</td>\n",
       "      <td>1</td>\n",
       "      <td>59.457952</td>\n",
       "      <td>-139.571432</td>\n",
       "      <td>Southeast</td>\n",
       "      <td>4</td>\n",
       "    </tr>\n",
       "    <tr>\n",
       "      <th>4</th>\n",
       "      <td>sockeye</td>\n",
       "      <td>2015.0</td>\n",
       "      <td>2015-07-11</td>\n",
       "      <td>360.0</td>\n",
       "      <td>0.0</td>\n",
       "      <td>female</td>\n",
       "      <td>1</td>\n",
       "      <td>2</td>\n",
       "      <td>59.457952</td>\n",
       "      <td>-139.571432</td>\n",
       "      <td>Southeast</td>\n",
       "      <td>4</td>\n",
       "    </tr>\n",
       "  </tbody>\n",
       "</table>\n",
       "</div>"
      ],
      "text/plain": [
       "   Species  sampleYear  sampleDate  Length  Weight     Sex  Salt.Water.Age  \\\n",
       "0  sockeye      2015.0  2015-07-11   580.0     0.0    male               3   \n",
       "1  sockeye      2015.0  2015-07-11   440.0     0.0  female               2   \n",
       "2  sockeye      2015.0  2015-07-11   535.0     0.0  female               3   \n",
       "3  sockeye      2015.0  2015-07-11   440.0     0.0  female               2   \n",
       "4  sockeye      2015.0  2015-07-11   360.0     0.0  female               1   \n",
       "\n",
       "   Fresh.Water.Age        Lat         Lon SASAP.Region  Age  \n",
       "0                1  59.457952 -139.571432    Southeast    5  \n",
       "1                1  59.457952 -139.571432    Southeast    4  \n",
       "2                1  59.457952 -139.571432    Southeast    5  \n",
       "3                1  59.457952 -139.571432    Southeast    4  \n",
       "4                2  59.457952 -139.571432    Southeast    4  "
      ]
     },
     "execution_count": 25,
     "metadata": {},
     "output_type": "execute_result"
    }
   ],
   "source": [
    "sockeye.head()"
   ]
  },
  {
   "cell_type": "code",
   "execution_count": 26,
   "id": "4fb5640d",
   "metadata": {},
   "outputs": [],
   "source": [
    "import matplotlib.pyplot as plt"
   ]
  },
  {
   "cell_type": "code",
   "execution_count": 27,
   "id": "bd17b6a6",
   "metadata": {},
   "outputs": [
    {
     "data": {
      "text/plain": [
       "<AxesSubplot:xlabel='Age', ylabel='Count'>"
      ]
     },
     "execution_count": 27,
     "metadata": {},
     "output_type": "execute_result"
    },
    {
     "data": {
      "image/png": "[encoded data removed]",
      "text/plain": [
       "<Figure size 1000x300 with 2 Axes>"
      ]
     },
     "metadata": {},
     "output_type": "display_data"
    }
   ],
   "source": [
    "fig, axes = plt.subplots(1, 2, figsize=(10, 3))\n",
    "sns.histplot(data=sockeye, x='Length', hue='SASAP.Region', kde=True, multiple='dodge', shrink=2, ax=axes[0])\n",
    "sns.histplot(data=sockeye, x='Age', hue='SASAP.Region', kde=True, multiple='dodge', shrink=2, ax=axes[1])"
   ]
  },
  {
   "cell_type": "code",
   "execution_count": 28,
   "id": "a560de95",
   "metadata": {},
   "outputs": [],
   "source": [
    "#3. ¿Cuáles son los patrones de Longitud, Peso, Edad?"
   ]
  },
  {
   "cell_type": "code",
   "execution_count": 29,
   "id": "5baebaa1",
   "metadata": {},
   "outputs": [
    {
     "data": {
      "text/plain": [
       "<AxesSubplot:xlabel='Weight'>"
      ]
     },
     "execution_count": 29,
     "metadata": {},
     "output_type": "execute_result"
    },
    {
     "data": {
      "image/png": "[encoded data removed]",
      "text/plain": [
       "<Figure size 640x480 with 1 Axes>"
      ]
     },
     "metadata": {},
     "output_type": "display_data"
    }
   ],
   "source": [
    "sample2['Weight'] = sample2['Weight'].astype(float)\n",
    "sns.boxplot(data=sample2, x='Weight')"
   ]
  },
  {
   "cell_type": "code",
   "execution_count": 31,
   "id": "cd9d9b5e",
   "metadata": {},
   "outputs": [],
   "source": [
    "sample2['Length'] = sample2['Length'].astype(float)"
   ]
  },
  {
   "cell_type": "code",
   "execution_count": 32,
   "id": "710d71b6",
   "metadata": {},
   "outputs": [
    {
     "data": {
      "text/plain": [
       "<AxesSubplot:xlabel='Age'>"
      ]
     },
     "execution_count": 32,
     "metadata": {},
     "output_type": "execute_result"
    },
    {
     "data": {
      "image/png": "[encoded data removed]",
      "text/plain": [
       "<Figure size 640x480 with 2 Axes>"
      ]
     },
     "metadata": {},
     "output_type": "display_data"
    }
   ],
   "source": [
    "fig, axes = plt.subplots(1, 2)\n",
    "sns.violinplot(data=sample2, x='Length', ax=axes[0])\n",
    "sns.violinplot(data=sample2, x='Age', ax=axes[1])"
   ]
  },
  {
   "cell_type": "code",
   "execution_count": 33,
   "id": "681b135c",
   "metadata": {},
   "outputs": [],
   "source": [
    "#En general, las distribuciones de Longitud y Edad son las mismas. Las longitudes se distribuyen normalmente."
   ]
  },
  {
   "cell_type": "code",
   "execution_count": 34,
   "id": "5393a275",
   "metadata": {},
   "outputs": [
    {
     "data": {
      "text/plain": [
       "<AxesSubplot:xlabel='Sex', ylabel='Count'>"
      ]
     },
     "execution_count": 34,
     "metadata": {},
     "output_type": "execute_result"
    },
    {
     "data": {
      "image/png": "[encoded data removed]",
      "text/plain": [
       "<Figure size 640x480 with 1 Axes>"
      ]
     },
     "metadata": {},
     "output_type": "display_data"
    }
   ],
   "source": [
    "sns.histplot(data=sample2, hue='Species', x='Sex')"
   ]
  },
  {
   "cell_type": "code",
   "execution_count": 35,
   "id": "74bda6fc",
   "metadata": {},
   "outputs": [
    {
     "data": {
      "image/png": "[encoded data removed]",
      "text/plain": [
       "<Figure size 640x480 with 3 Axes>"
      ]
     },
     "metadata": {},
     "output_type": "display_data"
    }
   ],
   "source": [
    "from statsmodels.graphics.mosaicplot import mosaic\n",
    "t = mosaic(sample2, ['Species','Sex'], title='Sex Distribution Among Species')"
   ]
  },
  {
   "cell_type": "code",
   "execution_count": 36,
   "id": "d93b5a1e",
   "metadata": {},
   "outputs": [],
   "source": [
    "#4. Haga un diagrama de pares de grupos de edad, longitud y sexo por especie. ¿Qué patrones se observarán?"
   ]
  },
  {
   "cell_type": "code",
   "execution_count": 38,
   "id": "95bb430f",
   "metadata": {},
   "outputs": [],
   "source": [
    "ASL = sample2[['Age', 'Length', 'Sex', 'Species']].reset_index(drop=True)"
   ]
  },
  {
   "cell_type": "code",
   "execution_count": 39,
   "id": "bfda5d47",
   "metadata": {},
   "outputs": [
    {
     "data": {
      "text/html": [
       "<div>\n",
       "<style scoped>\n",
       "    .dataframe tbody tr th:only-of-type {\n",
       "        vertical-align: middle;\n",
       "    }\n",
       "\n",
       "    .dataframe tbody tr th {\n",
       "        vertical-align: top;\n",
       "    }\n",
       "\n",
       "    .dataframe thead th {\n",
       "        text-align: right;\n",
       "    }\n",
       "</style>\n",
       "<table border=\"1\" class=\"dataframe\">\n",
       "  <thead>\n",
       "    <tr style=\"text-align: right;\">\n",
       "      <th></th>\n",
       "      <th>Age</th>\n",
       "      <th>Length</th>\n",
       "      <th>Sex</th>\n",
       "      <th>Species</th>\n",
       "    </tr>\n",
       "  </thead>\n",
       "  <tbody>\n",
       "    <tr>\n",
       "      <th>0</th>\n",
       "      <td>5</td>\n",
       "      <td>721.0</td>\n",
       "      <td>female</td>\n",
       "      <td>chinook</td>\n",
       "    </tr>\n",
       "    <tr>\n",
       "      <th>1</th>\n",
       "      <td>6</td>\n",
       "      <td>750.0</td>\n",
       "      <td>male</td>\n",
       "      <td>chinook</td>\n",
       "    </tr>\n",
       "    <tr>\n",
       "      <th>2</th>\n",
       "      <td>6</td>\n",
       "      <td>870.0</td>\n",
       "      <td>female</td>\n",
       "      <td>chinook</td>\n",
       "    </tr>\n",
       "    <tr>\n",
       "      <th>3</th>\n",
       "      <td>5</td>\n",
       "      <td>745.0</td>\n",
       "      <td>male</td>\n",
       "      <td>chinook</td>\n",
       "    </tr>\n",
       "    <tr>\n",
       "      <th>4</th>\n",
       "      <td>6</td>\n",
       "      <td>885.0</td>\n",
       "      <td>male</td>\n",
       "      <td>chinook</td>\n",
       "    </tr>\n",
       "    <tr>\n",
       "      <th>...</th>\n",
       "      <td>...</td>\n",
       "      <td>...</td>\n",
       "      <td>...</td>\n",
       "      <td>...</td>\n",
       "    </tr>\n",
       "    <tr>\n",
       "      <th>115282</th>\n",
       "      <td>4</td>\n",
       "      <td>547.0</td>\n",
       "      <td>male</td>\n",
       "      <td>sockeye</td>\n",
       "    </tr>\n",
       "    <tr>\n",
       "      <th>115283</th>\n",
       "      <td>6</td>\n",
       "      <td>634.0</td>\n",
       "      <td>male</td>\n",
       "      <td>sockeye</td>\n",
       "    </tr>\n",
       "    <tr>\n",
       "      <th>115284</th>\n",
       "      <td>4</td>\n",
       "      <td>560.0</td>\n",
       "      <td>male</td>\n",
       "      <td>sockeye</td>\n",
       "    </tr>\n",
       "    <tr>\n",
       "      <th>115285</th>\n",
       "      <td>5</td>\n",
       "      <td>599.0</td>\n",
       "      <td>female</td>\n",
       "      <td>sockeye</td>\n",
       "    </tr>\n",
       "    <tr>\n",
       "      <th>115286</th>\n",
       "      <td>4</td>\n",
       "      <td>548.0</td>\n",
       "      <td>male</td>\n",
       "      <td>sockeye</td>\n",
       "    </tr>\n",
       "  </tbody>\n",
       "</table>\n",
       "<p>115287 rows × 4 columns</p>\n",
       "</div>"
      ],
      "text/plain": [
       "        Age  Length     Sex  Species\n",
       "0         5   721.0  female  chinook\n",
       "1         6   750.0    male  chinook\n",
       "2         6   870.0  female  chinook\n",
       "3         5   745.0    male  chinook\n",
       "4         6   885.0    male  chinook\n",
       "...     ...     ...     ...      ...\n",
       "115282    4   547.0    male  sockeye\n",
       "115283    6   634.0    male  sockeye\n",
       "115284    4   560.0    male  sockeye\n",
       "115285    5   599.0  female  sockeye\n",
       "115286    4   548.0    male  sockeye\n",
       "\n",
       "[115287 rows x 4 columns]"
      ]
     },
     "execution_count": 39,
     "metadata": {},
     "output_type": "execute_result"
    }
   ],
   "source": [
    "ASL = sample2[['Age', 'Length', 'Sex', 'Species']].reset_index(drop=True)\n",
    "ASL"
   ]
  },
  {
   "cell_type": "code",
   "execution_count": 41,
   "id": "019ca829",
   "metadata": {},
   "outputs": [],
   "source": [
    "ASL['Sex'] = ASL['Sex'].apply(lambda x: 1 if x=='female' else 0)"
   ]
  },
  {
   "cell_type": "code",
   "execution_count": 42,
   "id": "48511b0c",
   "metadata": {},
   "outputs": [
    {
     "data": {
      "text/html": [
       "<div>\n",
       "<style scoped>\n",
       "    .dataframe tbody tr th:only-of-type {\n",
       "        vertical-align: middle;\n",
       "    }\n",
       "\n",
       "    .dataframe tbody tr th {\n",
       "        vertical-align: top;\n",
       "    }\n",
       "\n",
       "    .dataframe thead th {\n",
       "        text-align: right;\n",
       "    }\n",
       "</style>\n",
       "<table border=\"1\" class=\"dataframe\">\n",
       "  <thead>\n",
       "    <tr style=\"text-align: right;\">\n",
       "      <th></th>\n",
       "      <th>Age</th>\n",
       "      <th>Length</th>\n",
       "      <th>Sex</th>\n",
       "      <th>Species</th>\n",
       "    </tr>\n",
       "  </thead>\n",
       "  <tbody>\n",
       "    <tr>\n",
       "      <th>0</th>\n",
       "      <td>5</td>\n",
       "      <td>721.0</td>\n",
       "      <td>0</td>\n",
       "      <td>chinook</td>\n",
       "    </tr>\n",
       "    <tr>\n",
       "      <th>1</th>\n",
       "      <td>6</td>\n",
       "      <td>750.0</td>\n",
       "      <td>0</td>\n",
       "      <td>chinook</td>\n",
       "    </tr>\n",
       "    <tr>\n",
       "      <th>2</th>\n",
       "      <td>6</td>\n",
       "      <td>870.0</td>\n",
       "      <td>0</td>\n",
       "      <td>chinook</td>\n",
       "    </tr>\n",
       "    <tr>\n",
       "      <th>3</th>\n",
       "      <td>5</td>\n",
       "      <td>745.0</td>\n",
       "      <td>0</td>\n",
       "      <td>chinook</td>\n",
       "    </tr>\n",
       "    <tr>\n",
       "      <th>4</th>\n",
       "      <td>6</td>\n",
       "      <td>885.0</td>\n",
       "      <td>0</td>\n",
       "      <td>chinook</td>\n",
       "    </tr>\n",
       "  </tbody>\n",
       "</table>\n",
       "</div>"
      ],
      "text/plain": [
       "   Age  Length  Sex  Species\n",
       "0    5   721.0    0  chinook\n",
       "1    6   750.0    0  chinook\n",
       "2    6   870.0    0  chinook\n",
       "3    5   745.0    0  chinook\n",
       "4    6   885.0    0  chinook"
      ]
     },
     "execution_count": 42,
     "metadata": {},
     "output_type": "execute_result"
    }
   ],
   "source": [
    "ASL.head()"
   ]
  },
  {
   "cell_type": "code",
   "execution_count": null,
   "id": "ec0fbd1c",
   "metadata": {},
   "outputs": [],
   "source": [
    "sns.pairplot(ASL, hue='Species')"
   ]
  },
  {
   "cell_type": "code",
   "execution_count": null,
   "id": "be8e1a0e",
   "metadata": {},
   "outputs": [],
   "source": []
  }
 ],
 "metadata": {
  "kernelspec": {
   "display_name": "Python 3 (ipykernel)",
   "language": "python",
   "name": "python3"
  },
  "language_info": {
   "codemirror_mode": {
    "name": "ipython",
    "version": 3
   },
   "file_extension": ".py",
   "mimetype": "text/x-python",
   "name": "python",
   "nbconvert_exporter": "python",
   "pygments_lexer": "ipython3",
   "version": "3.9.13"
  }
 },
 "nbformat": 4,
 "nbformat_minor": 5
}
